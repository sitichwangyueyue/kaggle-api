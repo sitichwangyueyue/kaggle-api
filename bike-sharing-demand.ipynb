{
 "cells": [
  {
   "cell_type": "code",
   "execution_count": 143,
   "metadata": {
    "collapsed": true
   },
   "outputs": [
    {
     "name": "stdout",
     "output_type": "stream",
     "text": [
      "<class 'pandas.core.frame.DataFrame'>\nRangeIndex: 10886 entries, 0 to 10885\nData columns (total 12 columns):\ndatetime      10886 non-null object\nseason        10886 non-null int64\nholiday       10886 non-null int64\nworkingday    10886 non-null int64\nweather       10886 non-null int64\ntemp          10886 non-null float64\natemp         10886 non-null float64\nhumidity      10886 non-null int64\nwindspeed     10886 non-null float64\ncasual        10886 non-null int64\nregistered    10886 non-null int64\ncount         10886 non-null int64\ndtypes: float64(3), int64(8), object(1)\nmemory usage: 1020.6+ KB\n"
     ]
    }
   ],
   "source": [
    "import numpy as np\n",
    "import pandas as pd\n",
    "from datetime import datetime\n",
    "\n",
    "# import warnings\n",
    "# warnings.filterwarnings('ignore')\n",
    "\n",
    "import matplotlib.pyplot as plt\n",
    "\n",
    "import seaborn as sns\n",
    "sns.set(style='whitegrid' , palette='tab10')\n",
    "\n",
    "train=pd.read_csv(\"E:/PyProject/data_analysis/bike sharing/train_bike.csv\")\n",
    "\n",
    "#查看训练集数据是否有缺失值\n",
    "train.info()"
   ]
  },
  {
   "cell_type": "code",
   "execution_count": 144,
   "metadata": {},
   "outputs": [
    {
     "name": "stdout",
     "output_type": "stream",
     "text": [
      "<class 'pandas.core.frame.DataFrame'>\nRangeIndex: 6493 entries, 0 to 6492\nData columns (total 9 columns):\ndatetime      6493 non-null object\nseason        6493 non-null int64\nholiday       6493 non-null int64\nworkingday    6493 non-null int64\nweather       6493 non-null int64\ntemp          6493 non-null float64\natemp         6493 non-null float64\nhumidity      6493 non-null int64\nwindspeed     6493 non-null float64\ndtypes: float64(3), int64(5), object(1)\nmemory usage: 456.6+ KB\n"
     ]
    }
   ],
   "source": [
    "#查看测试集数据是否有缺失值\n",
    "test=pd.read_csv(\"E:/PyProject/data_analysis/bike sharing/test_bike.csv\")\n",
    "test.info()"
   ]
  },
  {
   "cell_type": "code",
   "execution_count": 145,
   "metadata": {},
   "outputs": [],
   "source": [
    "#观察租赁额密度分布\n",
    "fig = plt.figure()\n",
    "ax = fig.add_subplot(1, 1, 1)\n",
    "fig.set_size_inches(6,5)\n",
    "sns.distplot(train['count'])\n",
    "ax.set(xlabel='count',title='Distribution of count',)\n",
    "plt.show()"
   ]
  },
  {
   "cell_type": "code",
   "execution_count": 146,
   "metadata": {},
   "outputs": [
    {
     "name": "stdout",
     "output_type": "stream",
     "text": [
      "(10739, 12)\ncount    10739.000000\nmean       183.003818\nstd        166.681429\nmin          1.000000\n25%         41.000000\n50%        141.000000\n75%        276.000000\nmax        734.000000\nName: count, dtype: float64\n"
     ]
    }
   ],
   "source": [
    "train_WithoutOutliers = train[np.abs(train['count']-train['count'].mean())<=(3*train['count'].std())]\n",
    "print(train_WithoutOutliers .shape)\n",
    "print(train_WithoutOutliers['count'] .describe())"
   ]
  },
  {
   "cell_type": "code",
   "execution_count": 147,
   "metadata": {},
   "outputs": [],
   "source": [
    "fig,ax1 = plt.subplots(1,2)\n",
    "fig.set_size_inches(6,5)\n",
    "sns.distplot(train_WithoutOutliers['count'],ax=ax1[0])\n",
    "sns.distplot(train['count'],ax=ax1[1])\n",
    "ax1[0].set(xlabel='count',title='Distribution of count without outliers',)\n",
    "ax1[1].set(xlabel='registered',title='Distribution of count')\n",
    "plt.show()"
   ]
  },
  {
   "cell_type": "code",
   "execution_count": 148,
   "metadata": {},
   "outputs": [],
   "source": [
    "yLabels=train_WithoutOutliers['count']\n",
    "yLabels_log=np.log(yLabels)\n",
    "sns.distplot(yLabels_log)\n",
    "plt.show()"
   ]
  },
  {
   "cell_type": "code",
   "execution_count": 149,
   "metadata": {},
   "outputs": [
    {
     "name": "stdout",
     "output_type": "stream",
     "text": [
      "(17232, 12)\n"
     ]
    },
    {
     "name": "stderr",
     "output_type": "stream",
     "text": [
      "C:\\ProgramData\\Anaconda3\\lib\\site-packages\\ipykernel_launcher.py:1: FutureWarning: Sorting because non-concatenation axis is not aligned. A future version\nof pandas will change to not sort by default.\n\nTo accept the future behavior, pass 'sort=False'.\n\nTo retain the current behavior and silence the warning, pass 'sort=True'.\n\n  \"\"\"Entry point for launching an IPython kernel.\n"
     ]
    }
   ],
   "source": [
    "Bike_data=pd.concat([train_WithoutOutliers,test],ignore_index=True)\n",
    "#查看数据集大小\n",
    "print(Bike_data.shape)"
   ]
  },
  {
   "cell_type": "code",
   "execution_count": 150,
   "metadata": {},
   "outputs": [
    {
     "name": "stdout",
     "output_type": "stream",
     "text": [
      "    atemp  casual  count             datetime  holiday  humidity  registered  \\\n0  14.395     3.0   16.0  2011-01-01 00:00:00        0        81        13.0   \n1  13.635     8.0   40.0  2011-01-01 01:00:00        0        80        32.0   \n2  13.635     5.0   32.0  2011-01-01 02:00:00        0        80        27.0   \n3  14.395     3.0   13.0  2011-01-01 03:00:00        0        75        10.0   \n4  14.395     0.0    1.0  2011-01-01 04:00:00        0        75         1.0   \n\n   season  temp  weather  windspeed  workingday  \n0       1  9.84        1        0.0           0  \n1       1  9.02        1        0.0           0  \n2       1  9.02        1        0.0           0  \n3       1  9.84        1        0.0           0  \n4       1  9.84        1        0.0           0  \n"
     ]
    }
   ],
   "source": [
    "print(Bike_data.head())"
   ]
  },
  {
   "cell_type": "code",
   "execution_count": 151,
   "metadata": {},
   "outputs": [
    {
     "name": "stdout",
     "output_type": "stream",
     "text": [
      "    atemp  casual  count  holiday  humidity  registered  season  temp  \\\n0  14.395     3.0   16.0        0        81        13.0       1  9.84   \n1  13.635     8.0   40.0        0        80        32.0       1  9.02   \n2  13.635     5.0   32.0        0        80        27.0       1  9.02   \n3  14.395     3.0   13.0        0        75        10.0       1  9.84   \n4  14.395     0.0    1.0        0        75         1.0       1  9.84   \n\n   weather  windspeed  workingday        date  year  month  hour  weekday  \n0        1        0.0           0  2011-01-01  2011      1     0        6  \n1        1        0.0           0  2011-01-01  2011      1     1        6  \n2        1        0.0           0  2011-01-01  2011      1     2        6  \n3        1        0.0           0  2011-01-01  2011      1     3        6  \n4        1        0.0           0  2011-01-01  2011      1     4        6  \n"
     ]
    }
   ],
   "source": [
    "Bike_data['date']=Bike_data.datetime.apply(lambda x:x.split( )[0])\n",
    "Bike_data['year']=Bike_data.datetime.apply(lambda x:x.split( )[0].split('-')[0]).astype('int')\n",
    "Bike_data['month']=Bike_data.datetime.apply(lambda x:x.split( )[0].split('-')[1]).astype('int')\n",
    "Bike_data['hour']=Bike_data.datetime.apply(lambda x:x.split( )[1].split(':')[0]).astype('int')\n",
    "Bike_data['weekday']=Bike_data.date.apply( lambda c : datetime.strptime(c,'%Y-%m-%d').isoweekday())\n",
    "\n",
    "#Bike_data=Bike_data.drop([\"datetime\"],axis=1)\n",
    "print(Bike_data.head())"
   ]
  },
  {
   "cell_type": "code",
   "execution_count": 152,
   "metadata": {},
   "outputs": [],
   "source": [
    "fig, axes = plt.subplots(nrows=2,ncols=2)\n",
    "fig.set_size_inches(12, 10)\n",
    "sns.boxplot(data=Bike_data,y=\"count\",orient=\"v\",ax=axes[0][0])\n",
    "sns.boxplot(data=Bike_data,y=\"count\",x=\"season\",orient=\"v\",ax=axes[0][1])\n",
    "sns.boxplot(data=Bike_data,y=\"count\",x=\"hour\",orient=\"v\",ax=axes[1][0])\n",
    "sns.boxplot(data=Bike_data,y=\"count\",x=\"workingday\",orient=\"v\",ax=axes[1][1])\n",
    "\n",
    "axes[0][0].set(ylabel='Count',title=\"Box Plot On Count\")\n",
    "axes[0][1].set(xlabel='Season', ylabel='Count',title=\"Box Plot On Count Across Season\")\n",
    "axes[1][0].set(xlabel='Hour Of The Day', ylabel='Count',title=\"Box Plot On Count Across Hour Of The Day\")\n",
    "axes[1][1].set(xlabel='Working Day', ylabel='Count',title=\"Box Plot On Count Across Working Day\")\n",
    "\n",
    "plt.show()"
   ]
  },
  {
   "cell_type": "code",
   "execution_count": 153,
   "metadata": {},
   "outputs": [
    {
     "name": "stdout",
     "output_type": "stream",
     "text": [
      "Shape Of The Before Ouliers:  (17232, 16)\nShape Of The After Ouliers:  (10664, 16)\n"
     ]
    }
   ],
   "source": [
    "dailyDataWithoutOutliers = Bike_data[np.abs(Bike_data[\"count\"]-Bike_data[\"count\"].mean())<=(3*Bike_data[\"count\"].std())] \n",
    "\n",
    "print(\"Shape Of The Before Ouliers: \",Bike_data.shape)\n",
    "print(\"Shape Of The After Ouliers: \",dailyDataWithoutOutliers.shape)\n"
   ]
  },
  {
   "cell_type": "code",
   "execution_count": 155,
   "metadata": {},
   "outputs": [],
   "source": [
    "corrMatt = Bike_data[[\"temp\",\"atemp\",\"casual\",\"registered\",\"humidity\",\"windspeed\",\"count\"]].corr()\n",
    "mask = np.array(corrMatt)\n",
    "mask[np.tril_indices_from(mask)] = False\n",
    "fig,ax= plt.subplots()\n",
    "fig.set_size_inches(20,10)\n",
    "sns.heatmap(corrMatt, mask=mask,vmax=.8, square=True,annot=True)\n",
    "plt.show()"
   ]
  },
  {
   "cell_type": "code",
   "execution_count": 156,
   "metadata": {},
   "outputs": [],
   "source": [
    "fig,(ax1,ax2,ax3) = plt.subplots(ncols=3)\n",
    "fig.set_size_inches(12, 5)\n",
    "sns.regplot(x=\"temp\", y=\"count\", data=Bike_data,ax=ax1)\n",
    "sns.regplot(x=\"windspeed\", y=\"count\", data=Bike_data,ax=ax2)\n",
    "sns.regplot(x=\"humidity\", y=\"count\", data=Bike_data,ax=ax3)\n",
    "\n",
    "plt.show()\n"
   ]
  },
  {
   "cell_type": "code",
   "execution_count": 171,
   "metadata": {},
   "outputs": [],
   "source": [
    "from scipy import stats\n",
    "fig, axes = plt.subplots(1,2)\n",
    "sns.distplot(np.log(dailyDataWithoutOutliers[\"count\"]),ax=axes[0])\n",
    "stats.probplot(np.log1p(dailyDataWithoutOutliers[\"count\"]), dist='norm', fit=True, plot=axes[1])\n",
    "plt.show()\n"
   ]
  },
  {
   "cell_type": "code",
   "execution_count": 188,
   "metadata": {},
   "outputs": [
    {
     "name": "stdout",
     "output_type": "stream",
     "text": [
      "    month       count\n5       6  231.093855\n6       7  225.133929\n7       8  218.130631\n8       9  213.777273\n4       5  212.294118\n9      10  205.184510\n10     11  193.677278\n3       4  177.013363\n11     12  174.349451\n2       3  145.399108\n1       2  110.003330\n0       1   90.366516\n"
     ]
    }
   ],
   "source": [
    "fig,(ax1,ax2,ax3,ax4)= plt.subplots(nrows=4)\n",
    "fig.set_size_inches(12,20)\n",
    "sortOrder = [\"1\",\"2\",\"3\",\"4\",\"5\",\"6\",\"7\",\"8\",\"9\",\"10\",\"11\",\"12\"]\n",
    "hueOrder = [\"Sunday\",\"Monday\",\"Tuesday\",\"Wednesday\",\"Thursday\",\"Friday\",\"Saturday\"]\n",
    "monthAggregated = pd.DataFrame(Bike_data.groupby(\"month\")[\"count\"].mean()).reset_index()\n",
    "monthSorted = monthAggregated.sort_values(by=\"count\",ascending=False)\n",
    "print(monthSorted)\n",
    "sns.barplot(data=monthSorted,x=\"month\",y=\"count\",ax=ax1,order=sortOrder)\n",
    "ax1.set(xlabel='Month', ylabel='Avearage Count',title=\"Average Count By Month\")\n",
    "hourAggregated = pd.DataFrame(Bike_data.groupby([\"hour\",\"season\"],sort=True)[\"count\"].mean()).reset_index()\n",
    "sns.pointplot(x=hourAggregated[\"hour\"], y=hourAggregated[\"count\"],hue=hourAggregated[\"season\"], data=hourAggregated, join=True,ax=ax2)\n",
    "ax2.set(xlabel='Hour Of The Day', ylabel='Users Count',title=\"Average Users Count By Hour Of The Day Across Season\",label='big')\n",
    "\n",
    "hourTransformed = pd.melt(Bike_data[[\"hour\",\"casual\",\"registered\"]], id_vars=['hour'], value_vars=['casual', 'registered'])\n",
    "hourAggregated = pd.DataFrame(hourTransformed.groupby([\"hour\",\"variable\"],sort=True)[\"value\"].mean()).reset_index()\n",
    "sns.pointplot(x=hourAggregated[\"hour\"], y=hourAggregated[\"value\"],hue=hourAggregated[\"variable\"],hue_order=[\"casual\",\"registered\"], data=hourAggregated, join=True,ax=ax4)\n",
    "ax4.set(xlabel='Hour Of The Day', ylabel='Users Count',title=\"Average Users Count By Hour Of The Day Across User Type\",label='big')\n",
    "\n",
    "plt.show()\n"
   ]
  },
  {
   "cell_type": "code",
   "execution_count": 190,
   "metadata": {},
   "outputs": [],
   "source": [
    "import pylab\n",
    "import calendar\n",
    "import numpy as np\n",
    "import pandas as pd\n",
    "import seaborn as sn\n",
    "from scipy import stats\n",
    "import missingno as msno\n",
    "from datetime import datetime\n",
    "import matplotlib.pyplot as plt\n",
    "import warnings\n",
    "pd.options.mode.chained_assignment = None\n",
    "warnings.filterwarnings(\"ignore\", category=DeprecationWarning)\n"
   ]
  },
  {
   "cell_type": "code",
   "execution_count": 201,
   "metadata": {},
   "outputs": [],
   "source": [
    "\n",
    "dataTrain = pd.read_csv(\"bike sharing/train_bike.csv\")\n",
    "dataTest = pd.read_csv(\"bike sharing/test_bike.csv\")\n"
   ]
  },
  {
   "cell_type": "code",
   "execution_count": 203,
   "metadata": {},
   "outputs": [],
   "source": [
    "data = dataTrain.append(dataTest)\n",
    "data.reset_index(inplace=True)\n",
    "\n",
    "data.drop('index',inplace=True,axis=1)"
   ]
  },
  {
   "cell_type": "code",
   "execution_count": 204,
   "metadata": {},
   "outputs": [],
   "source": [
    "data[\"date\"] = data.datetime.apply(lambda x : x.split()[0])\n",
    "data[\"hour\"] = data.datetime.apply(lambda x : x.split()[1].split(\":\")[0]).astype(\"int\")\n",
    "data[\"year\"] = data.datetime.apply(lambda x : x.split()[0].split(\"-\")[0])\n",
    "data[\"weekday\"] = data.date.apply(lambda dateString : datetime.strptime(dateString,\"%Y-%m-%d\").weekday())\n",
    "data[\"month\"] = data.date.apply(lambda dateString : datetime.strptime(dateString,\"%Y-%m-%d\").month)\n"
   ]
  },
  {
   "cell_type": "code",
   "execution_count": 205,
   "metadata": {},
   "outputs": [
    {
     "name": "stderr",
     "output_type": "stream",
     "text": [
      "C:\\ProgramData\\Anaconda3\\lib\\site-packages\\sklearn\\ensemble\\forest.py:246: FutureWarning: The default value of n_estimators will change from 10 in version 0.20 to 100 in 0.22.\n  \"10 in version 0.20 to 100 in 0.22.\", FutureWarning)\n"
     ]
    }
   ],
   "source": [
    "from sklearn.ensemble import RandomForestRegressor\n",
    "\n",
    "dataWind0 = data[data[\"windspeed\"]==0]\n",
    "dataWindNot0 = data[data[\"windspeed\"]!=0]\n",
    "rfModel_wind = RandomForestRegressor()\n",
    "windColumns = [\"season\",\"weather\",\"humidity\",\"month\",\"temp\",\"year\",\"atemp\"]\n",
    "rfModel_wind.fit(dataWindNot0[windColumns], dataWindNot0[\"windspeed\"])\n",
    "\n",
    "wind0Values = rfModel_wind.predict(X= dataWind0[windColumns])\n",
    "dataWind0[\"windspeed\"] = wind0Values\n",
    "data = dataWindNot0.append(dataWind0)\n",
    "data.reset_index(inplace=True)\n",
    "data.drop('index',inplace=True,axis=1)\n"
   ]
  },
  {
   "cell_type": "code",
   "execution_count": 206,
   "metadata": {},
   "outputs": [],
   "source": [
    "categoricalFeatureNames = [\"season\",\"holiday\",\"workingday\",\"weather\",\"weekday\",\"month\",\"year\",\"hour\"]\n",
    "numericalFeatureNames = [\"temp\",\"humidity\",\"windspeed\",\"atemp\"]\n",
    "dropFeatures = ['casual',\"count\",\"datetime\",\"date\",\"registered\"]\n"
   ]
  },
  {
   "cell_type": "code",
   "execution_count": 207,
   "metadata": {},
   "outputs": [],
   "source": [
    "for var in categoricalFeatureNames:\n",
    "    data[var] = data[var].astype(\"category\")"
   ]
  },
  {
   "cell_type": "code",
   "execution_count": 209,
   "metadata": {},
   "outputs": [],
   "source": [
    "dataTrain = data[pd.notnull(data['count'])].sort_values(by=[\"datetime\"])\n",
    "dataTest = data[~pd.notnull(data['count'])].sort_values(by=[\"datetime\"])\n",
    "datetimecol = dataTest[\"datetime\"]\n",
    "yLabels = dataTrain[\"count\"]\n",
    "yLablesRegistered = dataTrain[\"registered\"]\n",
    "yLablesCasual = dataTrain[\"casual\"]\n"
   ]
  },
  {
   "cell_type": "code",
   "execution_count": 210,
   "metadata": {},
   "outputs": [],
   "source": [
    "dataTrain  = dataTrain.drop(dropFeatures,axis=1)\n",
    "dataTest  = dataTest.drop(dropFeatures,axis=1)"
   ]
  },
  {
   "cell_type": "code",
   "execution_count": 211,
   "metadata": {},
   "outputs": [],
   "source": [
    "def rmsle(y, y_,convertExp=True):\n",
    "    if convertExp:\n",
    "        y = np.exp(y),\n",
    "        y_ = np.exp(y_)\n",
    "    log1 = np.nan_to_num(np.array([np.log(v + 1) for v in y]))\n",
    "    log2 = np.nan_to_num(np.array([np.log(v + 1) for v in y_]))\n",
    "    calc = (log1 - log2) ** 2\n",
    "    return np.sqrt(np.mean(calc))\n"
   ]
  },
  {
   "cell_type": "code",
   "execution_count": 221,
   "metadata": {},
   "outputs": [
    {
     "name": "stdout",
     "output_type": "stream",
     "text": [
      "RMSLE Value For Linear Regression:  0.9779470479970008\n"
     ]
    }
   ],
   "source": [
    "from sklearn.linear_model import LinearRegression,Ridge,Lasso\n",
    "from sklearn.model_selection import GridSearchCV\n",
    "from sklearn import metrics\n",
    "import warnings\n",
    "pd.options.mode.chained_assignment = None\n",
    "warnings.filterwarnings(\"ignore\", category=DeprecationWarning)\n",
    "\n",
    "# Initialize logistic regression model\n",
    "lModel = LinearRegression()\n",
    "\n",
    "# Train the model\n",
    "yLabelsLog = np.log1p(yLabels)\n",
    "lModel.fit(X = dataTrain,y = yLabelsLog)\n",
    "\n",
    "# Make predictions\n",
    "preds = lModel.predict(X= dataTrain)\n",
    "print (\"RMSLE Value For Linear Regression: \",rmsle(np.exp(yLabelsLog),np.exp(preds),False))\n"
   ]
  },
  {
   "cell_type": "code",
   "execution_count": 243,
   "metadata": {},
   "outputs": [
    {
     "name": "stdout",
     "output_type": "stream",
     "text": [
      "RMSLE Value For Random Forest:  0.10303531482516702\n"
     ]
    }
   ],
   "source": [
    "from sklearn.ensemble import RandomForestRegressor\n",
    "rfModel = RandomForestRegressor(n_estimators=100)\n",
    "yLabelsLog = np.log1p(yLabels)\n",
    "rfModel.fit(dataTrain,yLabelsLog)\n",
    "preds = rfModel.predict(X= dataTrain)\n",
    "print (\"RMSLE Value For Random Forest: \",rmsle(np.exp(yLabelsLog),np.exp(preds),False))\n",
    "\n"
   ]
  },
  {
   "cell_type": "code",
   "execution_count": 242,
   "metadata": {},
   "outputs": [
    {
     "name": "stdout",
     "output_type": "stream",
     "text": [
      "RMSLE Value For Gradient Boost on train set:  0.1822942997531465\n"
     ]
    }
   ],
   "source": [
    "from sklearn.ensemble import GradientBoostingRegressor\n",
    "gbr = GradientBoostingRegressor(n_estimators=5000,alpha=0.01); ### Test 0.41\n",
    "yLabelsLog = np.log1p(yLabels)\n",
    "gbr.fit(dataTrain,yLabelsLog)\n",
    "preds = gbr.predict(X= dataTrain)\n",
    "print (\"RMSLE Value For Gradient Boost on train set: \",rmsle(np.exp(yLabelsLog),np.exp(preds),False))\n"
   ]
  },
  {
   "cell_type": "code",
   "execution_count": 244,
   "metadata": {},
   "outputs": [],
   "source": [
    "predsTest = gbr.predict(X= dataTest)\n",
    "fig,(ax1,ax2)= plt.subplots(1,2)\n",
    "sn.distplot(yLabels,ax=ax1,bins=50)\n",
    "sn.distplot(np.exp(predsTest),ax=ax2,bins=50)\n",
    "plt.show()\n"
   ]
  },
  {
   "cell_type": "code",
   "execution_count": 248,
   "metadata": {},
   "outputs": [],
   "source": [
    "submission=pd.DataFrame({'datetime':datetimecol , 'count':[max(0,x) for x in np.exp(predsTest)]})\n",
    "\n",
    "submission.to_csv('bike_prediction.csv',index=False)"
   ]
  },
  {
   "cell_type": "code",
   "execution_count": null,
   "metadata": {},
   "outputs": [],
   "source": []
  }
 ],
 "metadata": {
  "kernelspec": {
   "display_name": "Python 2",
   "language": "python",
   "name": "python2"
  },
  "language_info": {
   "codemirror_mode": {
    "name": "ipython",
    "version": 2
   },
   "file_extension": ".py",
   "mimetype": "text/x-python",
   "name": "python",
   "nbconvert_exporter": "python",
   "pygments_lexer": "ipython2",
   "version": "2.7.6"
  }
 },
 "nbformat": 4,
 "nbformat_minor": 0
}
